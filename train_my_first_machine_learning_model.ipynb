{
 "cells": [
  {
   "cell_type": "markdown",
   "metadata": {},
   "source": [
    "# Train My First Machine Learning Model\n",
    "\n",
    "I'm always interested in machine learning since last year I learned the concept. After watched a lot of videos and read a bunch of posts, recently I trained my first machine learning model and it's really exciting.\n",
    "\n",
    "## Find a problem\n",
    "\n",
    "The first also the most important thing to train a model is to find a problem which is currently handled by human but could be solved by machine. If you are one of the human it will be great because you will be willing to save yourself a lot of time.\n",
    "\n",
    "I use [EMS](http://ems.com.cn)(Express Mail Service) a lot after my baby was born because I need to query milk powder from Germany(*Big thanks to my best friend in Germany*) and commodities from Amazon Japan. The stupid website asks user to recognize a captcha before show their mail information. Thus I found my problem which is to recognize the captcha from their website using machine learning. The captcha looks like this: \n",
    "\n",
    "![EMS captcha](unknow.jpg)\n",
    "\n",
    "To our human being it's an easy task. Believe it or not it's also a piece of cake to a computer thanks to machine learning.\n",
    "\n",
    "## Analysis the problem\n",
    "\n",
    "The captcha is always composed of six numbers and our goal is to recognize all the numbers from the captcha image which is a typical image classification problem. There is a question what's the categories? Categories are the whole possible result to a specific image classification problem. It seems reasonable to label them from 000000 to 999999. But we will need huge amount of traning data if we classify like this. Instead we chose to cut the captcha into six pieces which contain their own number. Thus our categories become 0 to 9. We only need to recognize each piece of the captcha and combine their result together to get final result."
   ]
  },
  {
   "cell_type": "markdown",
   "metadata": {},
   "source": [
    "## Prepare training data\n",
    "\n",
    "Our machine learning model needs to be fed by data. How can we get data? It's always been a difficult problem for machine learning newbies. I use a most stupid method. Just download a lot of captcha from EMS website and use their value as names. As we have analysised the problem we need to preprocess these labeled captcha and organize them correctly before training. We need to create ten directories with name from 0 to 9 and put each segment number cut from origin captcha into their corresponding directory."
   ]
  },
  {
   "cell_type": "markdown",
   "metadata": {},
   "source": [
    "## Train model\n",
    "\n",
    "With training data prepared we can train our model simply with a script. If you want to learn more about the script above please check out [4. (Re)training the network](https://codelabs.developers.google.com/codelabs/tensorflow-for-poets/#3) from TensorFlow For Poets. The whole traning process should cost you dozens of seconds.\n",
    "\n",
    "## Use trained model\n",
    "\n",
    "After training we could use our model to predict a segment number. Predicting a whole captcha just becomes a for loop.\n",
    "\n",
    "To make things better I wrote a python script to query mail status and integrate it into my IM robot system. I only need to send a mail number to my IM robot who will crawl EMS website, download a captcha, predict its value, submit the result and parse the response to get current status of the mail.\n",
    "\n",
    "## Conclusion\n",
    "\n",
    "So far we have successfully used machine learning to solve our problem. Although we did not come across any difficult parts throughout the process, such as math, model definitions and more, it was still very exciting and significantly increased my interest in exploring machine learning."
   ]
  },
  {
   "cell_type": "code",
   "execution_count": null,
   "metadata": {},
   "outputs": [],
   "source": []
  }
 ],
 "metadata": {
  "kernelspec": {
   "display_name": "Python 3",
   "language": "python",
   "name": "python3"
  },
  "language_info": {
   "codemirror_mode": {
    "name": "ipython",
    "version": 3
   },
   "file_extension": ".py",
   "mimetype": "text/x-python",
   "name": "python",
   "nbconvert_exporter": "python",
   "pygments_lexer": "ipython3",
   "version": "3.6.2"
  }
 },
 "nbformat": 4,
 "nbformat_minor": 2
}
