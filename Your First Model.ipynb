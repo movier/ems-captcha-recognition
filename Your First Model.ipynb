{
 "cells": [
  {
   "cell_type": "markdown",
   "metadata": {},
   "source": [
    "Machine learning needs data. Our data is located in the `data` directory. Let's list all data "
   ]
  },
  {
   "cell_type": "code",
   "execution_count": 13,
   "metadata": {},
   "outputs": [
    {
     "name": "stdout",
     "output_type": "stream",
     "text": [
      "016586.jpeg  278411.jpg   414471.jpeg  554772.jpeg  711714.jpg   904468.jpeg\r\n",
      "033886.jpg   280227.jpeg  436276.jpeg  557754.jpeg  746665.jpeg  920728.jpg\r\n",
      "070684.jpeg  307318.jpeg  482888.jpg   579975.jpeg  748648.jpg   921283.jpg\r\n",
      "076086.jpeg  312029.jpeg  501439.jpg   602233.jpeg  766645.jpg   933618.jpeg\r\n",
      "081827.jpeg  326992.jpeg  505193.jpeg  621078.jpeg  784538.jpg   966877.jpg\r\n",
      "143380.jpeg  350740.jpg   515731.jpeg  651407.jpeg  805467.jpg   983700.jpeg\r\n",
      "173805.jpeg  395378.jpeg  516169.jpg   670030.jpeg  886623.jpeg\r\n"
     ]
    }
   ],
   "source": [
    "ls data"
   ]
  },
  {
   "cell_type": "markdown",
   "metadata": {},
   "source": [
    "and see what it looks like (take the first image for example)."
   ]
  },
  {
   "cell_type": "code",
   "execution_count": 16,
   "metadata": {},
   "outputs": [
    {
     "data": {
      "image/jpeg": "[encoded data removed]",
      "text/plain": [
       "<IPython.core.display.Image object>"
      ]
     },
     "execution_count": 16,
     "metadata": {},
     "output_type": "execute_result"
    }
   ],
   "source": [
    "from IPython.display import Image\n",
    "Image(filename='./data/016586.jpeg') "
   ]
  },
  {
   "cell_type": "markdown",
   "metadata": {},
   "source": [
    "You will find image name exactly equals its value."
   ]
  }
 ],
 "metadata": {
  "kernelspec": {
   "display_name": "Python 3",
   "language": "python",
   "name": "python3"
  },
  "language_info": {
   "codemirror_mode": {
    "name": "ipython",
    "version": 3
   },
   "file_extension": ".py",
   "mimetype": "text/x-python",
   "name": "python",
   "nbconvert_exporter": "python",
   "pygments_lexer": "ipython3",
   "version": "3.6.5"
  }
 },
 "nbformat": 4,
 "nbformat_minor": 2
}
